{
 "cells": [
  {
   "cell_type": "code",
   "execution_count": 1,
   "metadata": {},
   "outputs": [],
   "source": [
    "# do not show warnings \n",
    "import warnings\n",
    "warnings.filterwarnings('ignore')"
   ]
  },
  {
   "cell_type": "code",
   "execution_count": 18,
   "metadata": {},
   "outputs": [],
   "source": [
    "import os\n",
    "\n",
    "import json\n",
    "import pickle\n",
    "import keras\n",
    "import numpy as np\n",
    "import pandas as pd\n",
    "import matplotlib.pyplot as plt\n",
    "\n",
    "from keras.utils.np_utils import to_categorical\n",
    "from keras.preprocessing import sequence\n",
    "from keras.models import Sequential, load_model\n",
    "from keras.layers import Dense, Dropout, Embedding, LSTM, Bidirectional\n",
    "from keras.datasets import imdb\n",
    "from keras.preprocessing import sequence\n",
    "from keras.preprocessing.text import Tokenizer\n",
    "from matplotlib import gridspec\n",
    "from sklearn.model_selection import train_test_split\n",
    "from sklearn.metrics import roc_auc_score, roc_curve\n",
    "from sklearn.model_selection import train_test_split"
   ]
  },
  {
   "cell_type": "code",
   "execution_count": 33,
   "metadata": {},
   "outputs": [],
   "source": [
    "PATH_DATA = \"yelp_dataset/yelp_academic_dataset_review.json\"\n",
    "\n",
    "NB_EPOCHS = 15\n",
    "BATCH_SIZE = 64\n",
    "LEARNING_RATE = 0.00001\n",
    "VAL_SPLIT = 0.2\n",
    "\n",
    "VOC_SIZE = 10000\n",
    "MIN_WORDS = 20\n",
    "MAX_WORDS = 100"
   ]
  },
  {
   "cell_type": "code",
   "execution_count": 5,
   "metadata": {},
   "outputs": [],
   "source": [
    "def load_data(path):\n",
    "    \"\"\" Load the json file and return it as a dataframe\"\"\"\n",
    "    reviews = []\n",
    "    for line in open(path, 'r'):\n",
    "        reviews.append(json.loads(line))\n",
    "\n",
    "    reviews = pd.DataFrame(reviews)\n",
    "    return reviews"
   ]
  },
  {
   "cell_type": "code",
   "execution_count": 12,
   "metadata": {},
   "outputs": [
    {
     "name": "stdout",
     "output_type": "stream",
     "text": [
      "Loading data...\n",
      "The dataset has  5996996 samples\n"
     ]
    }
   ],
   "source": [
    "print(\"Loading data...\")\n",
    "# load the data\n",
    "reviews = load_data(PATH_DATA)\n",
    "\n",
    "X = reviews.text\n",
    "y = reviews.stars\n",
    "print(\"The dataset has \", len(X), \"samples\")"
   ]
  },
  {
   "cell_type": "code",
   "execution_count": 13,
   "metadata": {},
   "outputs": [],
   "source": [
    "# Take only the first 500 000 samples, so the training time will be lower\n",
    "X = X[:500000]\n",
    "y= y[:500000]"
   ]
  },
  {
   "cell_type": "code",
   "execution_count": 16,
   "metadata": {},
   "outputs": [],
   "source": [
    "def plot_labels(y):\n",
    "    \"\"\" Plot the distribution of the labels \"\"\"\n",
    "    plt.figure(figsize=(8,5))\n",
    "    y.hist()\n",
    "    plt.title('label distribution')\n",
    "    plt.ylabel('nb samples')\n",
    "    plt.xlabel('labels')\n",
    "    plt.show()"
   ]
  },
  {
   "cell_type": "code",
   "execution_count": 17,
   "metadata": {},
   "outputs": [
    {
     "data": {
      "image/png": "[encoded data removed]",
      "text/plain": [
       "<matplotlib.figure.Figure at 0x288767780>"
      ]
     },
     "metadata": {},
     "output_type": "display_data"
    }
   ],
   "source": [
    "# plot the label distribution\n",
    "plot_labels(y)"
   ]
  },
  {
   "cell_type": "code",
   "execution_count": 20,
   "metadata": {},
   "outputs": [],
   "source": [
    "def text_to_seq(X, max_lenght):\n",
    "    \"\"\" Convert text to padded sequence with max lenght\"\"\"\n",
    "    sequences = tokenizer.texts_to_sequences(X)\n",
    "    sequences = sequence.pad_sequences(sequences, maxlen=max_lenght)\n",
    "    return sequences\n",
    "\n",
    "def save_object(obj, filename):\n",
    "    \"\"\" Save the obj in a pickle file\"\"\"\n",
    "    with open(filename, 'wb') as output:  # Overwrites any existing file.\n",
    "        pickle.dump(obj, output, pickle.HIGHEST_PROTOCOL)"
   ]
  },
  {
   "cell_type": "code",
   "execution_count": 22,
   "metadata": {},
   "outputs": [],
   "source": [
    "# tokenize the data\n",
    "tokenizer = Tokenizer(num_words=VOC_SIZE)\n",
    "tokenizer.fit_on_texts(X)\n",
    "\n",
    "X = text_to_seq(X, MAX_WORDS)\n",
    "save_object(tokenizer, 'tokenizer_Yelp_keras_stars_New.pkl')"
   ]
  },
  {
   "cell_type": "code",
   "execution_count": 29,
   "metadata": {},
   "outputs": [],
   "source": [
    "# split the data in train and test set\n",
    "x_train, x_test, y_train, y_test = train_test_split(X, y, test_size=0.20, random_state=42)"
   ]
  },
  {
   "cell_type": "code",
   "execution_count": 30,
   "metadata": {},
   "outputs": [
    {
     "name": "stdout",
     "output_type": "stream",
     "text": [
      "Y shape:  (400000, 6)\n"
     ]
    }
   ],
   "source": [
    "# convert y to categorical attribute\n",
    "num_classes = np.max(y_train) + 1\n",
    "y_train = to_categorical(y_train, num_classes)\n",
    "y_train = np.array(y_train)\n",
    "\n",
    "print(\"Y shape: \", y_train.shape)"
   ]
  },
  {
   "cell_type": "code",
   "execution_count": 32,
   "metadata": {},
   "outputs": [
    {
     "name": "stdout",
     "output_type": "stream",
     "text": [
      "_________________________________________________________________\n",
      "Layer (type)                 Output Shape              Param #   \n",
      "=================================================================\n",
      "embedding_1 (Embedding)      (None, 100, 128)          1280000   \n",
      "_________________________________________________________________\n",
      "bidirectional_1 (Bidirection (None, 128)               98816     \n",
      "_________________________________________________________________\n",
      "dropout_1 (Dropout)          (None, 128)               0         \n",
      "_________________________________________________________________\n",
      "dense_1 (Dense)              (None, 6)                 774       \n",
      "=================================================================\n",
      "Total params: 1,379,590\n",
      "Trainable params: 1,379,590\n",
      "Non-trainable params: 0\n",
      "_________________________________________________________________\n"
     ]
    }
   ],
   "source": [
    "model = Sequential()\n",
    "model.add(Embedding(VOC_SIZE, 128, input_length=MAX_WORDS))\n",
    "model.add(Bidirectional(LSTM(64)))\n",
    "model.add(Dropout(0.5))\n",
    "model.add(Dense(num_classes, activation='sigmoid'))\n",
    "\n",
    "model.summary()"
   ]
  },
  {
   "cell_type": "code",
   "execution_count": null,
   "metadata": {},
   "outputs": [
    {
     "name": "stdout",
     "output_type": "stream",
     "text": [
      "Train on 320000 samples, validate on 80000 samples\n",
      "Epoch 1/15\n",
      "320000/320000 [==============================] - 758s 2ms/step - loss: 1.4493 - acc: 0.4508 - val_loss: 1.2791 - val_acc: 0.4627\n",
      "Epoch 2/15\n",
      "320000/320000 [==============================] - 777s 2ms/step - loss: 1.1412 - acc: 0.5066 - val_loss: 1.0066 - val_acc: 0.6199\n",
      "Epoch 3/15\n",
      "320000/320000 [==============================] - 789s 2ms/step - loss: 0.9903 - acc: 0.6124 - val_loss: 0.9110 - val_acc: 0.6221\n",
      "Epoch 4/15\n",
      " 93184/320000 [=======>......................] - ETA: 8:45 - loss: 0.9394 - acc: 0.6185"
     ]
    }
   ],
   "source": [
    "# train the model\n",
    "opt = keras.optimizers.Adam(lr=LEARNING_RATE)\n",
    "model.compile(opt, 'categorical_crossentropy', metrics=['accuracy'])\n",
    "\n",
    "keras.callbacks.EarlyStopping(monitor='val_loss',\n",
    "                              min_delta=0,\n",
    "                              patience=2,\n",
    "                              verbose=0, mode='auto')\n",
    "\n",
    "history = model.fit(x_train, y_train,\n",
    "                    batch_size=BATCH_SIZE,\n",
    "                    epochs=NB_EPOCHS,\n",
    "                    validation_split=VAL_SPLIT)"
   ]
  },
  {
   "cell_type": "code",
   "execution_count": null,
   "metadata": {},
   "outputs": [],
   "source": [
    "# save the model\n",
    "model.save(\"Yelp_class6.h5\")"
   ]
  },
  {
   "cell_type": "code",
   "execution_count": null,
   "metadata": {},
   "outputs": [],
   "source": [
    "def plot_accuracy(history):\n",
    "    \"\"\" Plot the accurary vs epoch for the train and validation set\"\"\"\n",
    "    plt.plot(history.history['acc'])\n",
    "    plt.plot(history.history['val_acc'])\n",
    "    plt.title('model accuracy')\n",
    "    plt.ylabel('accuracy')\n",
    "    plt.xlabel('epoch')\n",
    "    plt.legend(['train', 'validation'], loc='upper left')\n",
    "    \n",
    "def plot_loss(history):\n",
    "    \"\"\" Plot the loss vs epoch for the train and validation set\"\"\"\n",
    "    plt.plot(history.history['loss'])\n",
    "    plt.plot(history.history['val_loss'])\n",
    "    plt.title('model loss')\n",
    "    plt.ylabel('loss')\n",
    "    plt.xlabel('epoch')\n",
    "    plt.legend(['train', 'validation'], loc='upper left')"
   ]
  },
  {
   "cell_type": "code",
   "execution_count": null,
   "metadata": {},
   "outputs": [],
   "source": [
    "# plot the loss and the accuracy\n",
    "plt.figure(figsize=(15,5))\n",
    "\n",
    "gs = gridspec.GridSpec(1,2)\n",
    "\n",
    "ax = plt.subplot(gs[0])\n",
    "plot_accuracy(history)\n",
    "\n",
    "ax = plt.subplot(gs[1])\n",
    "plot_loss(history)"
   ]
  },
  {
   "cell_type": "code",
   "execution_count": null,
   "metadata": {},
   "outputs": [],
   "source": []
  }
 ],
 "metadata": {
  "kernelspec": {
   "display_name": "Python base",
   "language": "python",
   "name": "base"
  },
  "language_info": {
   "codemirror_mode": {
    "name": "ipython",
    "version": 3
   },
   "file_extension": ".py",
   "mimetype": "text/x-python",
   "name": "python",
   "nbconvert_exporter": "python",
   "pygments_lexer": "ipython3",
   "version": "3.6.2"
  }
 },
 "nbformat": 4,
 "nbformat_minor": 2
}
