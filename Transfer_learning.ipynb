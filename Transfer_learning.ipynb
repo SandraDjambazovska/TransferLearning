{
 "cells": [
  {
   "cell_type": "code",
   "execution_count": 3,
   "metadata": {},
   "outputs": [],
   "source": [
    "# do not show warnings \n",
    "import warnings\n",
    "warnings.filterwarnings('ignore')"
   ]
  },
  {
   "cell_type": "code",
   "execution_count": 76,
   "metadata": {},
   "outputs": [],
   "source": [
    "import os\n",
    "\n",
    "import json\n",
    "import pickle\n",
    "import keras\n",
    "import numpy as np\n",
    "import pandas as pd\n",
    "import matplotlib.pyplot as plt\n",
    "\n",
    "from keras.utils.np_utils import to_categorical\n",
    "from keras.preprocessing import sequence\n",
    "from keras.models import Sequential, load_model\n",
    "from keras.layers import Dense, Dropout, Embedding, LSTM, Bidirectional\n",
    "from keras.datasets import imdb\n",
    "from keras.preprocessing import sequence\n",
    "from matplotlib import gridspec\n",
    "from sklearn.model_selection import train_test_split\n",
    "from sklearn.metrics import roc_auc_score\n",
    "from sklearn.metrics import roc_curve\n",
    "from sklearn.metrics import precision_recall_fscore_support\n",
    "from sklearn import metrics"
   ]
  },
  {
   "cell_type": "code",
   "execution_count": 48,
   "metadata": {},
   "outputs": [],
   "source": [
    "PATH_POS = \"dataset/aclImdb/train/pos/\"\n",
    "PATH_NEG = \"dataset/aclImdb/train/neg/\"\n",
    "PATH_POS_TEST = \"dataset/aclImdb/test/pos/\"\n",
    "PATH_NEG_TEST = \"dataset/aclImdb/test/neg/\"\n",
    "\n",
    "TOKENIZER_FILE = \"tokenizer_Yelp_keras_stars.pkl\"\n",
    "PRETRAINED_MODEL = \"yelp_starts_keras_10ep.h5\"\n",
    "\n",
    "# Baseline model parameters\n",
    "NB_EPOCHS_BL = 10\n",
    "BATCH_SIZE_BL = 32\n",
    "LEARNING_RATE_BL = 0.000001\n",
    "VAL_SPLIT_BL = 0.1\n",
    "\n",
    "# Pretrained model parameters\n",
    "NB_EPOCHS = 10\n",
    "BATCH_SIZE = 64\n",
    "LEARNING_RATE = 0.001\n",
    "VAL_SPLIT = 0.2\n",
    "\n",
    "VOC_SIZE = 10000\n",
    "MIN_WORDS = 20\n",
    "MAX_WORDS = 100"
   ]
  },
  {
   "cell_type": "code",
   "execution_count": 6,
   "metadata": {},
   "outputs": [],
   "source": [
    "def read_file(path):\n",
    "    \"\"\" Read the file and remove the return line character\"\"\"\n",
    "    with open(path, 'r') as file:\n",
    "        reviews = file.read().replace('\\n', '')\n",
    "    return reviews\n",
    "        \n",
    "\n",
    "def create_df(path):\n",
    "    \"\"\" Create a dataframe with columns: 'reviews', 'ids', 'ratings' \"\"\"\n",
    "    reviews = [read_file(path + file_name)  for file_name in os.listdir(path)]\n",
    "    ids = [file_name.partition(\"_\")[0] for file_name in os.listdir(path)] \n",
    "    ratings = [file_name.partition(\"_\")[2][:-4] for file_name in os.listdir(path)]\n",
    "    \n",
    "    df = pd.DataFrame(list(zip(reviews, ids, ratings)), columns=['reviews','ids', 'ratings'])\n",
    "    df['reviews'] = df.reviews.str.replace('<br /><br />' , '')\n",
    "    \n",
    "    return df"
   ]
  },
  {
   "cell_type": "code",
   "execution_count": 7,
   "metadata": {},
   "outputs": [
    {
     "name": "stdout",
     "output_type": "stream",
     "text": [
      "Loading the data...\n",
      "Train set size:  25000\n",
      "Test set size:  25000\n"
     ]
    }
   ],
   "source": [
    "print(\"Loading the data...\")\n",
    "df_pos_train  = create_df(PATH_POS)\n",
    "df_pos_test = create_df(PATH_POS_TEST)\n",
    "\n",
    "df_neg_train = create_df(PATH_NEG)\n",
    "df_neg_test = create_df(PATH_NEG_TEST)\n",
    "\n",
    "# create a single dataframe for training and testing\n",
    "df_train = df_neg_train.append(df_pos_train, ignore_index=True)\n",
    "df_test = df_neg_test.append(df_pos_test, ignore_index=True)\n",
    "print(\"Train set size: \", len(df_train))\n",
    "print(\"Test set size: \", len(df_test))"
   ]
  },
  {
   "cell_type": "code",
   "execution_count": 8,
   "metadata": {},
   "outputs": [],
   "source": [
    "# shuffle the date in-place and reset the index\n",
    "df_train = df_train.sample(frac=1).reset_index(drop=True)\n",
    "df_test = df_test.sample(frac=1).reset_index(drop=True)"
   ]
  },
  {
   "cell_type": "code",
   "execution_count": 9,
   "metadata": {},
   "outputs": [],
   "source": [
    "# change rating type to integer \n",
    "df_train.ratings = df_train.ratings.astype(int)\n",
    "df_test.ratings = df_test.ratings.astype(int)"
   ]
  },
  {
   "cell_type": "markdown",
   "metadata": {},
   "source": [
    "-  positive reviews:  > 6 stars\n",
    "-  negative reviews:  < 5 stars\n",
    "\n",
    "1 = positive review, 0 = negative review\n",
    "\n"
   ]
  },
  {
   "cell_type": "code",
   "execution_count": 10,
   "metadata": {},
   "outputs": [
    {
     "data": {
      "text/plain": [
       "((25000,), (25000,))"
      ]
     },
     "execution_count": 10,
     "metadata": {},
     "output_type": "execute_result"
    }
   ],
   "source": [
    "X = df_train.reviews\n",
    "y = df_train.ratings.replace([1,2,3,4],0).replace([7,8,9,10],1)\n",
    "X.shape, y.shape"
   ]
  },
  {
   "cell_type": "code",
   "execution_count": 11,
   "metadata": {},
   "outputs": [
    {
     "data": {
      "text/plain": [
       "((25000,), (25000,))"
      ]
     },
     "execution_count": 11,
     "metadata": {},
     "output_type": "execute_result"
    }
   ],
   "source": [
    "X_test = df_test.reviews\n",
    "y_test = df_test.ratings.replace([1,2,3,4],0).replace([7,8,9,10],1)\n",
    "X_test.shape, y_test.shape"
   ]
  },
  {
   "cell_type": "code",
   "execution_count": 12,
   "metadata": {},
   "outputs": [],
   "source": [
    "def check_balaced_dataset(y):\n",
    "    \"\"\" Check if a dataset is balanced \"\"\"\n",
    "    pos_samples = y[y == 1]\n",
    "    neg_samples = y[y == 0]\n",
    "    \n",
    "    if(len(pos_samples) == len(neg_samples)):\n",
    "        print(\"\\tThe dataset is balanced.\")\n",
    "    else:\n",
    "        print(\"\\tThe dataset is unbalanced.\")"
   ]
  },
  {
   "cell_type": "code",
   "execution_count": 13,
   "metadata": {},
   "outputs": [
    {
     "name": "stdout",
     "output_type": "stream",
     "text": [
      "Train set:\n",
      "\tThe dataset is balanced.\n",
      "\n",
      "Test set:\n",
      "\tThe dataset is balanced.\n"
     ]
    }
   ],
   "source": [
    "# check if the set is balanced\n",
    "print(\"Train set:\")\n",
    "check_balaced_dataset(y)\n",
    "\n",
    "print(\"\\nTest set:\")\n",
    "check_balaced_dataset(y_test)"
   ]
  },
  {
   "cell_type": "code",
   "execution_count": 14,
   "metadata": {},
   "outputs": [],
   "source": [
    "def load_pickle_file(filename):\n",
    "    \"\"\" Load a pickle file \"\"\"\n",
    "    with open(filename, 'rb') as input:\n",
    "        tokenizer = pickle.load(input)\n",
    "    return tokenizer"
   ]
  },
  {
   "cell_type": "code",
   "execution_count": 15,
   "metadata": {},
   "outputs": [],
   "source": [
    "def text_to_seq(X, max_lenght):\n",
    "    \"\"\" Convert text to padded sequence with max lenght\"\"\"\n",
    "    sequences = tokenizer.texts_to_sequences(X)\n",
    "    sequences = sequence.pad_sequences(sequences, maxlen=max_lenght)\n",
    "    return sequences"
   ]
  },
  {
   "cell_type": "code",
   "execution_count": 16,
   "metadata": {},
   "outputs": [
    {
     "name": "stdout",
     "output_type": "stream",
     "text": [
      "Train set shape:  (25000, 100)\n"
     ]
    }
   ],
   "source": [
    "tokenizer = load_pickle_file(TOKENIZER_FILE)\n",
    "X = text_to_seq(X, MAX_WORDS)\n",
    "print(\"Train set shape: \", X.shape)"
   ]
  },
  {
   "cell_type": "code",
   "execution_count": 17,
   "metadata": {},
   "outputs": [],
   "source": [
    "def plot_accuracy(history):\n",
    "    \"\"\" Plot the accurary vs epoch for the train and validation set\"\"\"\n",
    "    plt.plot(history.history['acc'])\n",
    "    plt.plot(history.history['val_acc'])\n",
    "    plt.title('model accuracy')\n",
    "    plt.ylabel('accuracy')\n",
    "    plt.xlabel('epoch')\n",
    "    plt.legend(['train', 'validation'], loc='upper left')\n",
    "    \n",
    "def plot_loss(history):\n",
    "    \"\"\" Plot the loss vs epoch for the train and validation set\"\"\"\n",
    "    plt.plot(history.history['loss'])\n",
    "    plt.plot(history.history['val_loss'])\n",
    "    plt.title('model loss')\n",
    "    plt.ylabel('loss')\n",
    "    plt.xlabel('epoch')\n",
    "    plt.legend(['train', 'validation'], loc='upper left')"
   ]
  },
  {
   "cell_type": "markdown",
   "metadata": {},
   "source": [
    "## Base line model"
   ]
  },
  {
   "cell_type": "code",
   "execution_count": 30,
   "metadata": {},
   "outputs": [
    {
     "name": "stdout",
     "output_type": "stream",
     "text": [
      "Base line model: \n",
      "\n",
      "_________________________________________________________________\n",
      "Layer (type)                 Output Shape              Param #   \n",
      "=================================================================\n",
      "embedding_4 (Embedding)      (None, 100, 128)          1280000   \n",
      "_________________________________________________________________\n",
      "bidirectional_4 (Bidirection (None, 128)               98816     \n",
      "_________________________________________________________________\n",
      "dropout_4 (Dropout)          (None, 128)               0         \n",
      "_________________________________________________________________\n",
      "dense_4 (Dense)              (None, 1)                 129       \n",
      "=================================================================\n",
      "Total params: 1,378,945\n",
      "Trainable params: 1,378,945\n",
      "Non-trainable params: 0\n",
      "_________________________________________________________________\n"
     ]
    }
   ],
   "source": [
    "print(\"Base line model: \\n\")\n",
    "base_line = Sequential()\n",
    "base_line.add(Embedding(VOC_SIZE, 128, input_length=MAX_WORDS))\n",
    "base_line.add(Bidirectional(LSTM(64)))\n",
    "base_line.add(Dropout(0.5))\n",
    "base_line.add(Dense(1, activation='sigmoid'))\n",
    "base_line.summary()"
   ]
  },
  {
   "cell_type": "code",
   "execution_count": 31,
   "metadata": {},
   "outputs": [],
   "source": [
    "keras.callbacks.EarlyStopping(monitor='val_loss',\n",
    "                              min_delta=0,\n",
    "                              patience=1,\n",
    "                              verbose=0, mode='auto')\n",
    "optimizer = keras.optimizers.Adam(lr=LEARNING_RATE_BL)\n",
    "base_line.compile(optimizer, \n",
    "              'binary_crossentropy', \n",
    "              metrics=['accuracy'])"
   ]
  },
  {
   "cell_type": "code",
   "execution_count": null,
   "metadata": {},
   "outputs": [],
   "source": [
    "# train the model\n",
    "history_base_line = base_line.fit(X, y,\n",
    "                                  batch_size=BATCH_SIZE_BL,\n",
    "                                  epochs=NB_EPOCHS_BL,\n",
    "                                  validation_split=VAL_SPLIT_BL)"
   ]
  },
  {
   "cell_type": "code",
   "execution_count": 28,
   "metadata": {},
   "outputs": [],
   "source": [
    "# save the model \n",
    "base_line.save(\"baseline_IMDb.h5\")"
   ]
  },
  {
   "cell_type": "code",
   "execution_count": 27,
   "metadata": {},
   "outputs": [
    {
     "data": {
      "image/png": "[encoded data removed]",
      "text/plain": [
       "<matplotlib.figure.Figure at 0x11fb807b8>"
      ]
     },
     "metadata": {},
     "output_type": "display_data"
    }
   ],
   "source": [
    "# plot the loss and the accuracy\n",
    "plt.figure(figsize=(15,5))\n",
    "\n",
    "gs = gridspec.GridSpec(1,2)\n",
    "\n",
    "ax = plt.subplot(gs[0])\n",
    "plot_accuracy(history_base_line)\n",
    "\n",
    "ax = plt.subplot(gs[1])\n",
    "plot_loss(history_base_line)"
   ]
  },
  {
   "cell_type": "markdown",
   "metadata": {},
   "source": [
    "## Transfer the knowledge from the pretrained model"
   ]
  },
  {
   "cell_type": "code",
   "execution_count": 49,
   "metadata": {},
   "outputs": [],
   "source": [
    "# load the pre-trained model \n",
    "model = load_model(PRETRAINED_MODEL)"
   ]
  },
  {
   "cell_type": "code",
   "execution_count": 50,
   "metadata": {},
   "outputs": [
    {
     "name": "stdout",
     "output_type": "stream",
     "text": [
      "Pretrained model summary: \n",
      "\n",
      "_________________________________________________________________\n",
      "Layer (type)                 Output Shape              Param #   \n",
      "=================================================================\n",
      "embedding_5 (Embedding)      (None, 100, 128)          1280000   \n",
      "_________________________________________________________________\n",
      "bidirectional_5 (Bidirection (None, 128)               98816     \n",
      "_________________________________________________________________\n",
      "dropout_5 (Dropout)          (None, 128)               0         \n",
      "_________________________________________________________________\n",
      "dense_5 (Dense)              (None, 6)                 774       \n",
      "=================================================================\n",
      "Total params: 1,379,590\n",
      "Trainable params: 1,379,590\n",
      "Non-trainable params: 0\n",
      "_________________________________________________________________\n"
     ]
    }
   ],
   "source": [
    "print(\"Pretrained model summary: \\n\")\n",
    "model.summary()"
   ]
  },
  {
   "cell_type": "code",
   "execution_count": 51,
   "metadata": {},
   "outputs": [],
   "source": [
    "def freeze_model(model):\n",
    "    \"\"\" Freeze the weights of the model\"\"\"\n",
    "    for l in model.layers:\n",
    "        l.trainable = False \n",
    "    return model"
   ]
  },
  {
   "cell_type": "code",
   "execution_count": 52,
   "metadata": {},
   "outputs": [],
   "source": [
    "# remove the last layer \n",
    "model.layers.pop()\n",
    "\n",
    "# freeze the model \n",
    "model = freeze_model(model)\n",
    "\n",
    "# add a new Dense layer for binary classification\n",
    "model.add(Dense(1,activation='sigmoid'))"
   ]
  },
  {
   "cell_type": "code",
   "execution_count": 53,
   "metadata": {},
   "outputs": [
    {
     "name": "stdout",
     "output_type": "stream",
     "text": [
      "New model for sentiment analysis on IMDb: \n",
      "\n",
      "_________________________________________________________________\n",
      "Layer (type)                 Output Shape              Param #   \n",
      "=================================================================\n",
      "embedding_5 (Embedding)      (None, 100, 128)          1280000   \n",
      "_________________________________________________________________\n",
      "bidirectional_5 (Bidirection (None, 128)               98816     \n",
      "_________________________________________________________________\n",
      "dropout_5 (Dropout)          (None, 128)               0         \n",
      "_________________________________________________________________\n",
      "dense_7 (Dense)              (None, 1)                 7         \n",
      "=================================================================\n",
      "Total params: 1,378,823\n",
      "Trainable params: 7\n",
      "Non-trainable params: 1,378,816\n",
      "_________________________________________________________________\n"
     ]
    }
   ],
   "source": [
    "print(\"New model for sentiment analysis on IMDb: \\n\")\n",
    "model.summary()"
   ]
  },
  {
   "cell_type": "code",
   "execution_count": 54,
   "metadata": {},
   "outputs": [],
   "source": [
    "keras.callbacks.EarlyStopping(monitor='val_loss',\n",
    "                              min_delta=0,\n",
    "                              patience=2,\n",
    "                              verbose=0, mode='auto')\n",
    "optimizer = keras.optimizers.Adam(lr=LEARNING_RATE)\n",
    "model.compile(optimizer, \n",
    "              'binary_crossentropy', \n",
    "              metrics=['accuracy'])"
   ]
  },
  {
   "cell_type": "code",
   "execution_count": 55,
   "metadata": {},
   "outputs": [
    {
     "name": "stdout",
     "output_type": "stream",
     "text": [
      "Train on 20000 samples, validate on 5000 samples\n",
      "Epoch 1/10\n",
      "20000/20000 [==============================] - 11s 573us/step - loss: 0.7093 - acc: 0.3682 - val_loss: 0.6589 - val_acc: 0.7256\n",
      "Epoch 2/10\n",
      "20000/20000 [==============================] - 10s 519us/step - loss: 0.5758 - acc: 0.7802 - val_loss: 0.4990 - val_acc: 0.8088\n",
      "Epoch 3/10\n",
      "20000/20000 [==============================] - 10s 520us/step - loss: 0.4814 - acc: 0.8069 - val_loss: 0.4636 - val_acc: 0.8128\n",
      "Epoch 4/10\n",
      "20000/20000 [==============================] - 11s 541us/step - loss: 0.4609 - acc: 0.8095 - val_loss: 0.4512 - val_acc: 0.8142\n",
      "Epoch 5/10\n",
      "20000/20000 [==============================] - 11s 564us/step - loss: 0.4502 - acc: 0.8087 - val_loss: 0.4440 - val_acc: 0.8134\n",
      "Epoch 6/10\n",
      "20000/20000 [==============================] - 11s 570us/step - loss: 0.4434 - acc: 0.8101 - val_loss: 0.4381 - val_acc: 0.8132\n",
      "Epoch 7/10\n",
      "20000/20000 [==============================] - 11s 568us/step - loss: 0.4396 - acc: 0.8108 - val_loss: 0.4344 - val_acc: 0.8116\n",
      "Epoch 8/10\n",
      "20000/20000 [==============================] - 11s 563us/step - loss: 0.4378 - acc: 0.8082 - val_loss: 0.4308 - val_acc: 0.8128\n",
      "Epoch 9/10\n",
      "20000/20000 [==============================] - 11s 568us/step - loss: 0.4350 - acc: 0.8077 - val_loss: 0.4288 - val_acc: 0.8116\n",
      "Epoch 10/10\n",
      "20000/20000 [==============================] - 12s 589us/step - loss: 0.4335 - acc: 0.8077 - val_loss: 0.4269 - val_acc: 0.8138\n"
     ]
    }
   ],
   "source": [
    "# train the model\n",
    "history = model.fit(X, y,\n",
    "          batch_size=BATCH_SIZE,\n",
    "          epochs=NB_EPOCHS,\n",
    "          validation_split=VAL_SPLIT)"
   ]
  },
  {
   "cell_type": "code",
   "execution_count": 58,
   "metadata": {},
   "outputs": [],
   "source": [
    "# save the model\n",
    "model.save(\"tl_IMDb.h5\")"
   ]
  },
  {
   "cell_type": "code",
   "execution_count": 56,
   "metadata": {},
   "outputs": [
    {
     "data": {
      "image/png": "[encoded data removed]",
      "text/plain": [
       "<matplotlib.figure.Figure at 0x130d05898>"
      ]
     },
     "metadata": {},
     "output_type": "display_data"
    }
   ],
   "source": [
    "# plot the loss and the accuracy\n",
    "plt.figure(figsize=(15,5))\n",
    "\n",
    "gs = gridspec.GridSpec(1,2)\n",
    "\n",
    "ax = plt.subplot(gs[0])\n",
    "plot_accuracy(history)\n",
    "\n",
    "ax = plt.subplot(gs[1])\n",
    "plot_loss(history)"
   ]
  },
  {
   "cell_type": "markdown",
   "metadata": {},
   "source": [
    "## Compare the results"
   ]
  },
  {
   "cell_type": "code",
   "execution_count": 59,
   "metadata": {},
   "outputs": [
    {
     "name": "stdout",
     "output_type": "stream",
     "text": [
      "Test set shape:  (25000, 100)\n"
     ]
    }
   ],
   "source": [
    "X_test = text_to_seq(X_test, MAX_WORDS)\n",
    "print(\"Test set shape: \", X.shape)"
   ]
  },
  {
   "cell_type": "code",
   "execution_count": 60,
   "metadata": {},
   "outputs": [
    {
     "name": "stdout",
     "output_type": "stream",
     "text": [
      "Predict the labels on the test set...\n",
      "Done\n"
     ]
    }
   ],
   "source": [
    "print(\"Predict the labels on the test set...\")\n",
    "baseline_pred = base_line.predict_proba(X_test)\n",
    "model_pred = model.predict_proba(X_test)\n",
    "print(\"Done\")"
   ]
  },
  {
   "cell_type": "code",
   "execution_count": 72,
   "metadata": {},
   "outputs": [],
   "source": [
    "def plot_ROC(y_test, y_baseline, y_model):\n",
    "    \"\"\" Plot the ROC curve to compare the two models: baseline and pretrained\"\"\"\n",
    "    \n",
    "    plt.title(\"ROC curve\")\n",
    "    plt.xlabel(\"False positive rate\")\n",
    "    plt.ylabel(\"True positive rate\")\n",
    "\n",
    "    # Plot the baseline model\n",
    "    auc_bl = roc_auc_score(y_test, y_baseline)\n",
    "    print('Baseline AUC: %.3f' % auc_bl)\n",
    "    # calculate roc curve\n",
    "    fpr_bl, tpr_bl, thresholds_bl = roc_curve(y_test, y_baseline)\n",
    "    # plot no skill\n",
    "    plt.plot([0, 1], [0, 1], linestyle='--')\n",
    "    # plot the roc curve for the model\n",
    "    plt.plot(fpr_bl, tpr_bl, marker='.')\n",
    "    \n",
    "    # Plot the pretrained model\n",
    "    auc_tl = roc_auc_score(y_test, y_model)\n",
    "    print('Pretrained AUC: %.3f' % auc_tl)\n",
    "    # calculate roc curve\n",
    "    fpr_tl, tpr_tl, thresholds_tl = roc_curve(y_test, y_model)\n",
    "    # plot the roc curve for the model\n",
    "    plt.plot(fpr_tl, tpr_tl, marker=\".\")\n",
    "    plt.legend(['diagonal','baseline', 'pretrained'], loc='upper left')"
   ]
  },
  {
   "cell_type": "code",
   "execution_count": 73,
   "metadata": {},
   "outputs": [
    {
     "name": "stdout",
     "output_type": "stream",
     "text": [
      "Baseline AUC: 0.868\n",
      "Pretrained AUC: 0.891\n"
     ]
    },
    {
     "data": {
      "image/png": "[encoded data removed]",
      "text/plain": [
       "<matplotlib.figure.Figure at 0x12feaf470>"
      ]
     },
     "metadata": {},
     "output_type": "display_data"
    }
   ],
   "source": [
    "# plot the ROC curve\n",
    "plt.figure(figsize=(10,10))\n",
    "plot_ROC(y_test, baseline_pred, model_pred)"
   ]
  },
  {
   "cell_type": "code",
   "execution_count": 79,
   "metadata": {},
   "outputs": [
    {
     "name": "stdout",
     "output_type": "stream",
     "text": [
      "Predict test classes for baseline model...\n",
      "\n",
      "Results\n",
      "\n",
      "             precision    recall  f1-score   support\n",
      "\n",
      "          0       0.80      0.76      0.78     12500\n",
      "          1       0.77      0.82      0.79     12500\n",
      "\n",
      "avg / total       0.79      0.79      0.79     25000\n",
      "\n",
      "Accuracy:  0.78764\n"
     ]
    }
   ],
   "source": [
    "print(\"Predict test classes for baseline model...\\n\")\n",
    "y_pred_bl = base_line.predict_classes(X_test)\n",
    "print(\"Results\\n\")\n",
    "print(metrics.classification_report(y_test, y_pred_bl))\n",
    "print(\"Accuracy: \", metrics.accuracy_score(y_test, y_pred_bl))"
   ]
  },
  {
   "cell_type": "code",
   "execution_count": 80,
   "metadata": {},
   "outputs": [
    {
     "name": "stdout",
     "output_type": "stream",
     "text": [
      "Predict test classes for pretrained model...\n",
      "\n",
      "Results\n",
      "\n",
      "             precision    recall  f1-score   support\n",
      "\n",
      "          0       0.82      0.80      0.81     12500\n",
      "          1       0.80      0.82      0.81     12500\n",
      "\n",
      "avg / total       0.81      0.81      0.81     25000\n",
      "\n",
      "Accuracy:  0.81172\n"
     ]
    }
   ],
   "source": [
    "print(\"Predict test classes for pretrained model...\\n\")\n",
    "y_pred_tl = model.predict_classes(X_test)\n",
    "print(\"Results\\n\")\n",
    "print(metrics.classification_report(y_test, y_pred_tl))\n",
    "print(\"Accuracy: \", metrics.accuracy_score(y_test, y_pred_tl))"
   ]
  }
 ],
 "metadata": {
  "kernelspec": {
   "display_name": "Python base",
   "language": "python",
   "name": "base"
  },
  "language_info": {
   "codemirror_mode": {
    "name": "ipython",
    "version": 3
   },
   "file_extension": ".py",
   "mimetype": "text/x-python",
   "name": "python",
   "nbconvert_exporter": "python",
   "pygments_lexer": "ipython3",
   "version": "3.6.2"
  }
 },
 "nbformat": 4,
 "nbformat_minor": 2
}
